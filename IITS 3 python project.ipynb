{
 "cells": [
  {
   "cell_type": "code",
   "execution_count": null,
   "id": "b8d55e7e",
   "metadata": {},
   "outputs": [],
   "source": [
    "current_balance=10000\n",
    "\n",
    "def display_balance():\n",
    "    print(\"Account balance is : {}\".format(current_balance))\n",
    "    \n",
    "def cash_deposit(amount):\n",
    "    global current_balance\n",
    "    current_balance+=amount\n",
    "    display_balance()\n",
    "    \n",
    "def cash_withdraw(amount):\n",
    "    global current_balance\n",
    "    \n",
    "    if current_balance-amount<1000:\n",
    "        print(\"your balance is insufficient\")\n",
    "        display__balance()\n",
    "    elif amount>100000:\n",
    "        print(\"Maximum withdrawal amount is 100000\")\n",
    "        display_balance()\n",
    "    else:\n",
    "        current_balance=amount\n",
    "        display_balance()\n",
    "        \n",
    "def check():\n",
    "    global flag\n",
    "    print(\"Do you want to continue? (y/n)\")\n",
    "    do=input()\n",
    "    \n",
    "    if do==\"n\":\n",
    "        print(\"Have a nice day!!\")\n",
    "        flag=False\n",
    "        \n",
    "flag=True\n",
    "while flag:\n",
    "    print(\"Select what you want to do\")\n",
    "    print(\"Account balance : Type 1\")\n",
    "    print(\"Cash withdrawal : Type 2\")\n",
    "    print(\"Cash deposit    : Type 3\")\n",
    "    \n",
    "    choice=input()\n",
    "    \n",
    "    if choice==\"1\":\n",
    "        display_balance()\n",
    "        check()\n",
    "    elif choice==\"2\":\n",
    "        print(\"Enter the amount you need to withdraw\")\n",
    "        value=float(input(\"amount: \"))\n",
    "        cash_withdraw(value)\n",
    "        check()\n",
    "    elif choice==\"3\":\n",
    "        print(\"Enter the amount you need to deposit\")\n",
    "        value=float(input(\"amount: \"))\n",
    "        cash_deposit(value)\n",
    "        check()"
   ]
  },
  {
   "cell_type": "code",
   "execution_count": null,
   "id": "7ea6488e",
   "metadata": {},
   "outputs": [],
   "source": []
  }
 ],
 "metadata": {
  "kernelspec": {
   "display_name": "Python 3 (ipykernel)",
   "language": "python",
   "name": "python3"
  },
  "language_info": {
   "codemirror_mode": {
    "name": "ipython",
    "version": 3
   },
   "file_extension": ".py",
   "mimetype": "text/x-python",
   "name": "python",
   "nbconvert_exporter": "python",
   "pygments_lexer": "ipython3",
   "version": "3.9.12"
  }
 },
 "nbformat": 4,
 "nbformat_minor": 5
}
