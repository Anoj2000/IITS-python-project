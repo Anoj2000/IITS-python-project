{
 "cells": [
  {
   "cell_type": "code",
   "execution_count": null,
   "id": "d2ae13c3",
   "metadata": {},
   "outputs": [],
   "source": [
    "import random\n",
    "rnum=random.randint(1,20)\n",
    "unum=int(input(\"Enter your guess: \"))\n",
    "c=1\n",
    "while unum!=rnum:\n",
    "    if unum>=1 and unum<=20:\n",
    "        print(\"your guess is incorrect\")\n",
    "        if unum<rnum:\n",
    "            print(\"please try a higher value\")\n",
    "        else:\n",
    "            print(\"please try a lower value\")\n",
    "            \n",
    "        unum=int(input(\"Enter your guess: \"))\n",
    "        c+=1\n",
    "        \n",
    "    else:\n",
    "        print(\"Restart the game and try a value between 1 to 20\")\n",
    "        break\n",
    "        \n",
    "else:\n",
    "    if c<=5:\n",
    "        print(\"you have won the game\")\n",
    "    else:\n",
    "        print(\"you have lost. you have tried {} attempts. try again \".format(c))"
   ]
  },
  {
   "cell_type": "code",
   "execution_count": null,
   "id": "2bc6c7fa",
   "metadata": {},
   "outputs": [],
   "source": [
    "def RandomGuessing(a,b):\n",
    "    import random\n",
    "    rnum=random.randint(a,b)\n",
    "    unum=int(input(\"Enter your guess: \"))\n",
    "    c=1\n",
    "    while unum!=rnum:\n",
    "        if unum>=a and unum<=b:\n",
    "            print(\"your guess is incorrect\")\n",
    "            if unum<rnum:\n",
    "                print(\"please try a higher value\")\n",
    "            else:\n",
    "                print(\"please try a lower value\")\n",
    "\n",
    "            unum=int(input(\"Enter your guess: \"))\n",
    "            c+=1\n",
    "\n",
    "        else:\n",
    "            print(f\"Restart the game and try a value between {a} to {b}\")\n",
    "            break\n",
    "\n",
    "    else:\n",
    "        if c<=5:\n",
    "            print(\"you have won the game\")\n",
    "        else:\n",
    "            print(\"you have lost. you have tried {} attempts. try again \".format(c))"
   ]
  }
 ],
 "metadata": {
  "kernelspec": {
   "display_name": "Python 3 (ipykernel)",
   "language": "python",
   "name": "python3"
  },
  "language_info": {
   "codemirror_mode": {
    "name": "ipython",
    "version": 3
   },
   "file_extension": ".py",
   "mimetype": "text/x-python",
   "name": "python",
   "nbconvert_exporter": "python",
   "pygments_lexer": "ipython3",
   "version": "3.9.12"
  }
 },
 "nbformat": 4,
 "nbformat_minor": 5
}
