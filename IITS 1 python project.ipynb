{
 "cells": [
  {
   "cell_type": "code",
   "execution_count": null,
   "id": "3ba98c74",
   "metadata": {},
   "outputs": [],
   "source": [
    "candidates={\"c1\":0,\"c2\":0,\"c3\":0}\n",
    "unacceptable=0\n",
    "voters={1001,1002,1003,1004,1005,1006,1007,1008,1009,1010}\n",
    "\n",
    "for i in voters:\n",
    "    vote=input(\"registration Number {},please give your vote (c1,c2,c3): \".format(i)).lower()\n",
    "    \n",
    "    if vote in candidates:\n",
    "        candidates[vote]+=1\n",
    "    else:\n",
    "        unacceptable+=1\n",
    "        \n",
    "        \n",
    "print(candidates)\n",
    "print(unacceptable)"
   ]
  },
  {
   "cell_type": "code",
   "execution_count": null,
   "id": "339888d4",
   "metadata": {},
   "outputs": [],
   "source": [
    "def vorting_system():\n",
    "    candidates={\"c1\":0,\"c2\":0,\"c3\":0}\n",
    "    unacceptable=0\n",
    "    voters={1001,1002,1003,1004,1005,1006,1007,1008,1009,1010}\n",
    "\n",
    "    for i in voters:\n",
    "        vote=input(\"registration Number {},please give your vote (c1,c2,c3): \".format(i)).lower()\n",
    "\n",
    "        if vote in candidates:\n",
    "            candidates[vote]+=1\n",
    "        else:\n",
    "            unacceptable+=1\n",
    "\n",
    "\n",
    "    print(candidates)\n",
    "    print(unacceptable) "
   ]
  }
 ],
 "metadata": {
  "kernelspec": {
   "display_name": "Python 3 (ipykernel)",
   "language": "python",
   "name": "python3"
  },
  "language_info": {
   "codemirror_mode": {
    "name": "ipython",
    "version": 3
   },
   "file_extension": ".py",
   "mimetype": "text/x-python",
   "name": "python",
   "nbconvert_exporter": "python",
   "pygments_lexer": "ipython3",
   "version": "3.9.12"
  }
 },
 "nbformat": 4,
 "nbformat_minor": 5
}
