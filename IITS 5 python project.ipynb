{
 "cells": [
  {
   "cell_type": "code",
   "execution_count": null,
   "id": "2487e9f7",
   "metadata": {},
   "outputs": [],
   "source": [
    "print(\"jack: Hello I'm jack. what is your name?\")\n",
    "name=input(\"your name: \")\n",
    "print(\"jack: Hi {}...So what do you want to know about our company?\".format(name))\n",
    "ques=input()\n",
    "\n",
    "def chat_check():\n",
    "    global ques,flag\n",
    "    \n",
    "    print(\"jack: Do you want to know anything more? (yes/no)\")\n",
    "    check=input(\"yes/no: \")\n",
    "    if check.lower()==\"yes\":\n",
    "        print(\"jack: Oky. So what do you want to know?\")\n",
    "        ques=input()\n",
    "        \n",
    "    else:\n",
    "        print(\"jack: Oky. Have a nice day!\")\n",
    "        flag=False\n",
    "        \n",
    "flag=True\n",
    "\n",
    "while flag:\n",
    "    \n",
    "    if all(i in ques.lower() for i in [\"company\",\"name\"]):\n",
    "        print(\"jack: Our company is ABC(PVT)Ltd\")\n",
    "        chat_check()\n",
    "        \n",
    "    elif any(i in ques.lower() for i in [\"ceo\",\"name\"]):\n",
    "        print(\"jack: Our company CEO if Mr.jeames boned\")\n",
    "        chat_check()\n",
    "        \n",
    "    elif any(i in ques.lower() for i in [\"contact\",\"address\",\"telephone Number\",\"email\",\"mobile\",\"location\"]):\n",
    "        print(\"jack:Our company address is No 08 araliaya uyana dambokka boyagane Kuruneagala you can contact us via 011-1000345678 Our comapy emali anojdangampola0002gmail.com\")\n",
    "        chat_check()\n",
    "        \n",
    "    elif any(i in ques.lower() for i in [\"Srevice\",\"product\",\"manufacture\"]):\n",
    "        print(\"jack: Our Company developed Artificial interlligence based enterprise software products.\")\n",
    "         chat_check()\n",
    "            \n",
    "    else:\n",
    "        print(\"jack: your question is not clear {} .\".format(name))\n",
    "        \n",
    "        chat_check()\n"
   ]
  }
 ],
 "metadata": {
  "kernelspec": {
   "display_name": "Python 3 (ipykernel)",
   "language": "python",
   "name": "python3"
  },
  "language_info": {
   "codemirror_mode": {
    "name": "ipython",
    "version": 3
   },
   "file_extension": ".py",
   "mimetype": "text/x-python",
   "name": "python",
   "nbconvert_exporter": "python",
   "pygments_lexer": "ipython3",
   "version": "3.9.12"
  }
 },
 "nbformat": 4,
 "nbformat_minor": 5
}
